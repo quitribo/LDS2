{
  "nbformat": 4,
  "nbformat_minor": 0,
  "metadata": {
    "kernelspec": {
      "display_name": "Python 3",
      "language": "python",
      "name": "python3"
    },
    "language_info": {
      "codemirror_mode": {
        "name": "ipython",
        "version": 3
      },
      "file_extension": ".py",
      "mimetype": "text/x-python",
      "name": "python",
      "nbconvert_exporter": "python",
      "pygments_lexer": "ipython3",
      "version": "3.8.3-final"
    },
    "colab": {
      "name": "Bài làm thêm 1 - Numpy-HV.ipynb",
      "provenance": []
    }
  },
  "cells": [
    {
      "cell_type": "markdown",
      "metadata": {
        "id": "ydCQ7cGw_zrw"
      },
      "source": [
        "# Bài làm thêm 1 - Numpy\n",
        "\n"
      ]
    },
    {
      "cell_type": "code",
      "metadata": {
        "id": "K3fwpSqY_zr2"
      },
      "source": [
        "import numpy as np"
      ],
      "execution_count": 697,
      "outputs": []
    },
    {
      "cell_type": "code",
      "metadata": {
        "id": "ywRJ-7pM_zsb"
      },
      "source": [
        "#1. Tạo mảng ngẫu nhiên 10 phần tử số nguyên từ 10-29\n",
        "np.random.seed(2)\n",
        "arr1= np.random.randint(10,30,10)\n",
        "arr1"
      ],
      "execution_count": 698,
      "outputs": [
        {
          "output_type": "execute_result",
          "data": {
            "text/plain": "array([18, 25, 23, 18, 21, 28, 21, 18, 17, 12])"
          },
          "metadata": {},
          "execution_count": 698
        }
      ]
    },
    {
      "cell_type": "markdown",
      "metadata": {
        "id": "YoeFlgdD_zs7"
      },
      "source": [
        "<details>\n",
        "  <summary>Nhấn vào đây để xem kết quả !</summary>\n",
        "  \n",
        "  <pre>array([18, 25, 23, 18, 21, 28, 21, 18, 17, 12])\n",
        "</pre>\n",
        "\n",
        "</details>"
      ]
    },
    {
      "cell_type": "code",
      "metadata": {
        "id": "3e7T-IPc_ztA",
        "tags": []
      },
      "source": [
        "#2. Cho biết kiểu dữ liệu các phần tử của arr1\n",
        "arr1.dtype"
      ],
      "execution_count": 699,
      "outputs": [
        {
          "output_type": "execute_result",
          "data": {
            "text/plain": "dtype(&#39;int32&#39;)"
          },
          "metadata": {},
          "execution_count": 699
        }
      ]
    },
    {
      "cell_type": "markdown",
      "metadata": {
        "id": "qr_FFiUP_ztk"
      },
      "source": [
        "<details>\n",
        "  <summary>Nhấn vào đây để xem kết quả !</summary>\n",
        "  \n",
        "  <pre>dtype('int32')\n",
        "</pre>\n",
        "\n",
        "</details>"
      ]
    },
    {
      "cell_type": "code",
      "metadata": {
        "id": "oRi09KBI_ztm"
      },
      "source": [
        "#3. Cho biết dung lượng bộ nhớ của mảng arr1\n",
        "arr1.nbytes"
      ],
      "execution_count": 700,
      "outputs": [
        {
          "output_type": "execute_result",
          "data": {
            "text/plain": "40"
          },
          "metadata": {},
          "execution_count": 700
        }
      ]
    },
    {
      "cell_type": "markdown",
      "metadata": {
        "id": "q5lKpi47_zt5"
      },
      "source": [
        "<details>\n",
        "  <summary>Nhấn vào đây để xem kết quả !</summary>\n",
        "  \n",
        "  <pre>40\n",
        "</pre>\n",
        "\n",
        "</details>"
      ]
    },
    {
      "cell_type": "code",
      "metadata": {
        "id": "b1HbPgAd_zuM",
        "tags": []
      },
      "source": [
        "#4. Tạo mảng arr2 là mảng arr1 nhưng có các giá trị chia hết cho 3 được thay bằng -1\n",
        "\n",
        "arr2 = np.where((arr1%3==0),-1,arr1)\n",
        "arr2"
      ],
      "execution_count": 701,
      "outputs": [
        {
          "output_type": "execute_result",
          "data": {
            "text/plain": "array([-1, 25, 23, -1, -1, 28, -1, -1, 17, -1])"
          },
          "metadata": {},
          "execution_count": 701
        }
      ]
    },
    {
      "cell_type": "markdown",
      "metadata": {
        "id": "JUSR9ZUG_zuo"
      },
      "source": [
        "<details>\n",
        "  <summary>Nhấn vào đây để xem kết quả !</summary>\n",
        "  \n",
        "  <pre>array([-1, 25, 23, -1, -1, 28, -1, -1, 17, -1])\n",
        "</pre>\n",
        "\n",
        "</details>"
      ]
    },
    {
      "cell_type": "code",
      "metadata": {
        "id": "LuQY4h8w_zuq"
      },
      "source": [
        "#5. Phát sinh mảng arr3 ngẫu nhiên 10 phần tử số nguyên từ 15-35\n",
        "np.random.seed(3)\n",
        "arr3= np.random.randint(15,36,10)\n",
        "arr3"
      ],
      "execution_count": 702,
      "outputs": [
        {
          "output_type": "execute_result",
          "data": {
            "text/plain": "array([25, 18, 23, 15, 34, 25, 26, 24, 25, 21])"
          },
          "metadata": {},
          "execution_count": 702
        }
      ]
    },
    {
      "cell_type": "markdown",
      "metadata": {
        "id": "X2hAYpdN_zva"
      },
      "source": [
        "<details>\n",
        "  <summary>Nhấn vào đây để xem kết quả !</summary>\n",
        "  \n",
        "  <pre>array([25, 18, 23, 15, 34, 25, 26, 24, 25, 21])\n",
        "</pre>\n",
        "\n",
        "</details>"
      ]
    },
    {
      "cell_type": "code",
      "metadata": {
        "id": "gVPr0nAo_zve"
      },
      "source": [
        "#6.  Liệt kê ra các phần tử giống nhau trong arr1 và arr3\n",
        "np.intersect1d(arr1,arr3)"
      ],
      "execution_count": 703,
      "outputs": [
        {
          "output_type": "execute_result",
          "data": {
            "text/plain": "array([18, 21, 23, 25])"
          },
          "metadata": {},
          "execution_count": 703
        }
      ]
    },
    {
      "cell_type": "markdown",
      "metadata": {
        "id": "pf5ZBS8y_zvv"
      },
      "source": [
        "<details>\n",
        "  <summary>Nhấn vào đây để xem kết quả !</summary>\n",
        "  \n",
        "  <pre>array([23])\n",
        "</pre>\n",
        "\n",
        "</details>"
      ]
    },
    {
      "cell_type": "code",
      "metadata": {
        "id": "LFCnnyUw_zvx"
      },
      "source": [
        "#7. Tạo mảng arr4 là mảng arr1 nhưng có 2 dòng, 5 cột \n",
        "arr4=arr1.reshape([2,5])\n",
        "arr4"
      ],
      "execution_count": 704,
      "outputs": [
        {
          "output_type": "execute_result",
          "data": {
            "text/plain": "array([[18, 25, 23, 18, 21],\n       [28, 21, 18, 17, 12]])"
          },
          "metadata": {},
          "execution_count": 704
        }
      ]
    },
    {
      "cell_type": "markdown",
      "metadata": {
        "id": "66NdNqNW_zwQ"
      },
      "source": [
        "<details>\n",
        "  <summary>Nhấn vào đây để xem kết quả !</summary>\n",
        "  \n",
        "  <pre>array([[18, 25, 23, 18, 21],\n",
        "       [28, 21, 18, 17, 12]])\n",
        "</pre>\n",
        "\n",
        "</details>"
      ]
    },
    {
      "cell_type": "code",
      "metadata": {
        "id": "2DvBAbRT_zwZ",
        "tags": []
      },
      "source": [
        "#8. Hoán đổi 2 dòng của mảng arr4\n",
        "arr5=arr4.copy()\n",
        "arr5[(0,1),:]=arr5[(1,0),:]\n",
        "print(arr5)"
      ],
      "execution_count": 705,
      "outputs": [
        {
          "output_type": "stream",
          "name": "stdout",
          "text": "[[28 21 18 17 12]\n [18 25 23 18 21]]\n"
        }
      ]
    },
    {
      "cell_type": "markdown",
      "metadata": {
        "id": "2o5tCupI_zwl"
      },
      "source": [
        "<details>\n",
        "  <summary>Nhấn vào đây để xem kết quả !</summary>\n",
        "  \n",
        "  <pre>array([[28, 21, 18, 17, 12],\n",
        "       [18, 25, 23, 18, 21]])\n",
        "</pre>\n",
        "\n",
        "</details>"
      ]
    },
    {
      "cell_type": "code",
      "metadata": {
        "id": "Zap7PgU-_zww",
        "tags": []
      },
      "source": [
        "#8. Hoán đổi cột 1 và cột 3 của mảng arr4\n",
        "print('Trước khi hoán đổi: \\n', arr4)\n",
        "arr4[:,(0,2)]=arr4[:,(2,0)]\n",
        "print('Sau khi hoán đổi: \\n', arr4)"
      ],
      "execution_count": 706,
      "outputs": [
        {
          "output_type": "stream",
          "name": "stdout",
          "text": "Trước khi hoán đổi: \n [[18 25 23 18 21]\n [28 21 18 17 12]]\nSau khi hoán đổi: \n [[23 25 18 18 21]\n [18 21 28 17 12]]\n"
        }
      ]
    },
    {
      "cell_type": "markdown",
      "metadata": {
        "id": "LFfCNDlf_zxH"
      },
      "source": [
        "<details>\n",
        "  <summary>Nhấn vào đây để xem kết quả !</summary>\n",
        "  \n",
        "  <pre>Trước khi hoán đổi: \n",
        " [[18 25 23 18 21]\n",
        " [28 21 18 17 12]]\n",
        "Sau khi hoán đổi: \n",
        " [[23 25 18 18 21]\n",
        " [18 21 28 17 12]]\n",
        "</pre>\n",
        "\n",
        "</details>"
      ]
    },
    {
      "cell_type": "code",
      "metadata": {
        "id": "AapIsDVX_zxL",
        "tags": []
      },
      "source": [
        "#9. Tạo mảng arr5 kích thước 8x8 với giá trị bên trong là 0 và các giá trị biên là 1\n",
        "\n",
        "#cach 1\n",
        "arr5 = np.ones((8,8),dtype=int)\n",
        "arr5[1:-1,1:-1]=0\n",
        "print(arr5)\n",
        "\n",
        "# #cach 2\n",
        "# print(np.pad(np.zeros((6,6),dtype=int),[(1,1),(1,1)],'constant',constant_values=1))"
      ],
      "execution_count": 707,
      "outputs": [
        {
          "output_type": "stream",
          "name": "stdout",
          "text": "[[1 1 1 1 1 1 1 1]\n [1 0 0 0 0 0 0 1]\n [1 0 0 0 0 0 0 1]\n [1 0 0 0 0 0 0 1]\n [1 0 0 0 0 0 0 1]\n [1 0 0 0 0 0 0 1]\n [1 0 0 0 0 0 0 1]\n [1 1 1 1 1 1 1 1]]\n"
        }
      ]
    },
    {
      "cell_type": "markdown",
      "metadata": {
        "id": "XwWay1R7_zxd"
      },
      "source": [
        "<details>\n",
        "  <summary>Nhấn vào đây để xem kết quả !</summary>\n",
        "  \n",
        "  <pre>[[1 1 1 1 1 1 1]\n",
        " [1 0 0 0 0 0 1]\n",
        " [1 0 0 0 0 0 1]\n",
        " [1 0 0 0 0 0 1]\n",
        " [1 0 0 0 0 0 1]\n",
        " [1 0 0 0 0 0 1]\n",
        " [1 1 1 1 1 1 1]]\n",
        "</pre>\n",
        "\n",
        "</details>"
      ]
    },
    {
      "cell_type": "code",
      "metadata": {
        "id": "-YVCPnBC_zxf"
      },
      "source": [
        "#10. Cộng thêm 3 vào các phần tử của mảng arr5\n",
        "arr5 = arr5+3\n",
        "arr5"
      ],
      "execution_count": 708,
      "outputs": [
        {
          "output_type": "execute_result",
          "data": {
            "text/plain": "array([[4, 4, 4, 4, 4, 4, 4, 4],\n       [4, 3, 3, 3, 3, 3, 3, 4],\n       [4, 3, 3, 3, 3, 3, 3, 4],\n       [4, 3, 3, 3, 3, 3, 3, 4],\n       [4, 3, 3, 3, 3, 3, 3, 4],\n       [4, 3, 3, 3, 3, 3, 3, 4],\n       [4, 3, 3, 3, 3, 3, 3, 4],\n       [4, 4, 4, 4, 4, 4, 4, 4]])"
          },
          "metadata": {},
          "execution_count": 708
        }
      ]
    },
    {
      "cell_type": "markdown",
      "metadata": {
        "id": "JvBhcFLs_zxt"
      },
      "source": [
        "<details>\n",
        "  <summary>Nhấn vào đây để xem kết quả !</summary>\n",
        "  \n",
        "  <pre>array([[4, 4, 4, 4, 4, 4, 4],\n",
        "       [4, 3, 3, 3, 3, 3, 4],\n",
        "       [4, 3, 3, 3, 3, 3, 4],\n",
        "       [4, 3, 3, 3, 3, 3, 4],\n",
        "       [4, 3, 3, 3, 3, 3, 4],\n",
        "       [4, 3, 3, 3, 3, 3, 4],\n",
        "       [4, 4, 4, 4, 4, 4, 4]])\n",
        "</pre>\n",
        "\n",
        "</details>"
      ]
    },
    {
      "cell_type": "code",
      "metadata": {
        "id": "nHlj__s__zxw"
      },
      "source": [
        "#11. Tạo mảng arr6 là mảng 1 chiều của mảng arr5 \n",
        "arr5 = arr5.flatten()\n",
        "arr5"
      ],
      "execution_count": 709,
      "outputs": [
        {
          "output_type": "execute_result",
          "data": {
            "text/plain": "array([4, 4, 4, 4, 4, 4, 4, 4, 4, 3, 3, 3, 3, 3, 3, 4, 4, 3, 3, 3, 3, 3,\n       3, 4, 4, 3, 3, 3, 3, 3, 3, 4, 4, 3, 3, 3, 3, 3, 3, 4, 4, 3, 3, 3,\n       3, 3, 3, 4, 4, 3, 3, 3, 3, 3, 3, 4, 4, 4, 4, 4, 4, 4, 4, 4])"
          },
          "metadata": {},
          "execution_count": 709
        }
      ]
    },
    {
      "cell_type": "markdown",
      "metadata": {
        "id": "hUdmAC1j_zyT"
      },
      "source": [
        "<details>\n",
        "  <summary>Nhấn vào đây để xem kết quả !</summary>\n",
        "  \n",
        "  <pre>array([4, 4, 4, 4, 4, 4, 4, 4, 3, 3, 3, 3, 3, 4, 4, 3, 3, 3, 3, 3, 4, 4,\n",
        "       3, 3, 3, 3, 3, 4, 4, 3, 3, 3, 3, 3, 4, 4, 3, 3, 3, 3, 3, 4, 4, 4,\n",
        "       4, 4, 4, 4, 4])\n",
        "</pre>\n",
        "\n",
        "</details>"
      ]
    },
    {
      "cell_type": "code",
      "metadata": {
        "id": "Oj3FKGC6_zyW"
      },
      "source": [
        "#12. Tạo mảng arr7 là 5 phần tử ngẫu nhiên từ arr3\n",
        "np.random.seed(8)\n",
        "arr7 = np.random.choice(arr3,5)\n",
        "arr7"
      ],
      "execution_count": 710,
      "outputs": [
        {
          "output_type": "execute_result",
          "data": {
            "text/plain": "array([15, 34, 18, 21, 25])"
          },
          "metadata": {},
          "execution_count": 710
        }
      ]
    },
    {
      "cell_type": "markdown",
      "metadata": {
        "id": "IO1ER0Ju_zzW"
      },
      "source": [
        "<details>\n",
        "  <summary>Nhấn vào đây để xem kết quả !</summary>\n",
        "  \n",
        "  <pre>array([15, 34, 18, 21, 25])\n",
        "</pre>\n",
        "\n",
        "</details>"
      ]
    },
    {
      "cell_type": "markdown",
      "metadata": {
        "id": "HcCnHAGS_zzb"
      },
      "source": [
        "#### Part 2 - Đọc dữ liệu và tính toán thống kê"
      ]
    },
    {
      "cell_type": "code",
      "metadata": {
        "id": "js_aje47_zzj"
      },
      "source": [
        "#1. Đọc dữ liệu từ tập tin shark.tsv (dữ liệu số vụ cá mập tấn công các tháng của 3 quốc gia USA,Australia,South Africa)\n",
        "# và đưa vào mảng shark (Gợi ý: sử dụng hàm np.genfromtxt)\n",
        "import numpy as np\n",
        "shark = np.genfromtxt('shark.csv',dtype=int,delimiter=',',skip_header=True)\n",
        "shark"
      ],
      "execution_count": 711,
      "outputs": [
        {
          "output_type": "execute_result",
          "data": {
            "text/plain": "array([[ -1,  28,  94,  68],\n       [ -1,  27,  78,  32],\n       [ -1,  66,  63,  34],\n       [ -1, 103,  54,  25],\n       [ -1, 106,  21,  25],\n       [ -1, 173,  25,  22],\n       [ -1, 232,  25,  28],\n       [ -1, 208,  28,  15],\n       [ -1, 182,  35,  17],\n       [ -1, 141,  56,  16],\n       [ -1,  79,  65,  20],\n       [ -1,  37,  94,  46]])"
          },
          "metadata": {},
          "execution_count": 711
        }
      ]
    },
    {
      "cell_type": "markdown",
      "metadata": {
        "id": "d1MMFLAK_z0K"
      },
      "source": [
        "<details>\n",
        "  <summary>Nhấn vào đây để xem kết quả !</summary>\n",
        "  \n",
        "  <pre>array([[ -1,  28,  94,  68],\n",
        "       [ -1,  27,  78,  32],\n",
        "       [ -1,  66,  63,  34],\n",
        "       [ -1, 103,  54,  25],\n",
        "       [ -1, 106,  21,  25],\n",
        "       [ -1, 173,  25,  22],\n",
        "       [ -1, 232,  25,  28],\n",
        "       [ -1, 208,  28,  15],\n",
        "       [ -1, 182,  35,  17],\n",
        "       [ -1, 141,  56,  16],\n",
        "       [ -1,  79,  65,  20],\n",
        "       [ -1,  37,  94,  46]])\n",
        "</pre>\n",
        "\n",
        "</details>"
      ]
    },
    {
      "cell_type": "code",
      "metadata": {
        "id": "cZi3vUFa_z0Y"
      },
      "source": [
        "#2. Cho biết số phần tử mỗi chiều của mảng\n",
        "shark.shape"
      ],
      "execution_count": 712,
      "outputs": [
        {
          "output_type": "execute_result",
          "data": {
            "text/plain": "(12, 4)"
          },
          "metadata": {},
          "execution_count": 712
        }
      ]
    },
    {
      "cell_type": "markdown",
      "metadata": {
        "id": "jF1zCpuz_z1A"
      },
      "source": [
        "<details>\n",
        "  <summary>Nhấn vào đây để xem kết quả !</summary>\n",
        "  \n",
        "  <pre>(12, 4)\n",
        "</pre>\n",
        "\n",
        "</details>"
      ]
    },
    {
      "cell_type": "code",
      "metadata": {
        "id": "aCNh2J_r_z1M",
        "tags": []
      },
      "source": [
        "#3. Thay cột 1 (giá trị -1) bằng giá trị tương ứng các tháng trong năm 1-12\n",
        "for i in range(shark.shape[0]):\n",
        "    shark[i][0]=i+1\n",
        "shark"
      ],
      "execution_count": 713,
      "outputs": [
        {
          "output_type": "execute_result",
          "data": {
            "text/plain": "array([[  1,  28,  94,  68],\n       [  2,  27,  78,  32],\n       [  3,  66,  63,  34],\n       [  4, 103,  54,  25],\n       [  5, 106,  21,  25],\n       [  6, 173,  25,  22],\n       [  7, 232,  25,  28],\n       [  8, 208,  28,  15],\n       [  9, 182,  35,  17],\n       [ 10, 141,  56,  16],\n       [ 11,  79,  65,  20],\n       [ 12,  37,  94,  46]])"
          },
          "metadata": {},
          "execution_count": 713
        }
      ]
    },
    {
      "cell_type": "markdown",
      "metadata": {
        "id": "nkouIiuf_z1y"
      },
      "source": [
        "<details>\n",
        "  <summary>Nhấn vào đây để xem kết quả !</summary>\n",
        "  \n",
        "  <pre>array([[  1,  28,  94,  68],\n",
        "       [  2,  27,  78,  32],\n",
        "       [  3,  66,  63,  34],\n",
        "       [  4, 103,  54,  25],\n",
        "       [  5, 106,  21,  25],\n",
        "       [  6, 173,  25,  22],\n",
        "       [  7, 232,  25,  28],\n",
        "       [  8, 208,  28,  15],\n",
        "       [  9, 182,  35,  17],\n",
        "       [ 10, 141,  56,  16],\n",
        "       [ 11,  79,  65,  20],\n",
        "       [ 12,  37,  94,  46]])\n",
        "</pre>\n",
        "\n",
        "</details>"
      ]
    },
    {
      "cell_type": "code",
      "metadata": {
        "id": "N1yW2POD_z15"
      },
      "source": [
        "#4. Hiển thị số vụ cá mập tấn công trung bình của 3 quốc gia\n",
        "shark[:,1:].mean(axis=0)"
      ],
      "execution_count": 714,
      "outputs": [
        {
          "output_type": "execute_result",
          "data": {
            "text/plain": "array([115.16666667,  53.16666667,  29.        ])"
          },
          "metadata": {},
          "execution_count": 714
        }
      ]
    },
    {
      "cell_type": "markdown",
      "metadata": {
        "id": "i1uvcJc7_z2V"
      },
      "source": [
        "<details>\n",
        "  <summary>Nhấn vào đây để xem kết quả !</summary>\n",
        "  \n",
        "  <pre>array([115.16666667,  53.16666667,  29.        ])\n",
        "</pre>\n",
        "\n",
        "</details>"
      ]
    },
    {
      "cell_type": "code",
      "metadata": {
        "id": "71IVEorE_z2b"
      },
      "source": [
        "#5. Hiển thị số vụ cá mập tấn công trung bình của mỗi tháng  \n",
        "shark[:,1:].mean(axis=1)"
      ],
      "execution_count": 715,
      "outputs": [
        {
          "output_type": "execute_result",
          "data": {
            "text/plain": "array([63.33333333, 45.66666667, 54.33333333, 60.66666667, 50.66666667,\n       73.33333333, 95.        , 83.66666667, 78.        , 71.        ,\n       54.66666667, 59.        ])"
          },
          "metadata": {},
          "execution_count": 715
        }
      ]
    },
    {
      "cell_type": "markdown",
      "metadata": {
        "id": "eWadsSWe_z2x"
      },
      "source": [
        "<details>\n",
        "  <summary>Nhấn vào đây để xem kết quả !</summary>\n",
        "  \n",
        "  <pre>array([63.33333333, 45.66666667, 54.33333333, 60.66666667, 50.66666667,\n",
        "       73.33333333, 95.        , 83.66666667, 78.        , 71.        ,\n",
        "       54.66666667, 59.        ])\n",
        "</pre>\n",
        "\n",
        "</details>"
      ]
    },
    {
      "cell_type": "code",
      "metadata": {
        "id": "qWC2vxK1_z2z",
        "tags": []
      },
      "source": [
        "#6. Tạo thêm cột tổng số vụ cá mập tấn công theo mỗi tháng \n",
        "\n",
        "tong=np.cumsum(shark[:,1:],axis=1)\n",
        "\n",
        "shark = np.append(shark,tong[:,-1:],axis=1)\n",
        "shark\n"
      ],
      "execution_count": 716,
      "outputs": [
        {
          "output_type": "execute_result",
          "data": {
            "text/plain": "array([[  1,  28,  94,  68, 190],\n       [  2,  27,  78,  32, 137],\n       [  3,  66,  63,  34, 163],\n       [  4, 103,  54,  25, 182],\n       [  5, 106,  21,  25, 152],\n       [  6, 173,  25,  22, 220],\n       [  7, 232,  25,  28, 285],\n       [  8, 208,  28,  15, 251],\n       [  9, 182,  35,  17, 234],\n       [ 10, 141,  56,  16, 213],\n       [ 11,  79,  65,  20, 164],\n       [ 12,  37,  94,  46, 177]])"
          },
          "metadata": {},
          "execution_count": 716
        }
      ]
    },
    {
      "cell_type": "markdown",
      "metadata": {
        "id": "QFEbOB7I_z3F"
      },
      "source": [
        "<details>\n",
        "  <summary>Nhấn vào đây để xem kết quả !</summary>\n",
        "  \n",
        "  <pre>array([[  1,  28,  94,  68, 190],\n",
        "       [  2,  27,  78,  32, 137],\n",
        "       [  3,  66,  63,  34, 163],\n",
        "       [  4, 103,  54,  25, 182],\n",
        "       [  5, 106,  21,  25, 152],\n",
        "       [  6, 173,  25,  22, 220],\n",
        "       [  7, 232,  25,  28, 285],\n",
        "       [  8, 208,  28,  15, 251],\n",
        "       [  9, 182,  35,  17, 234],\n",
        "       [ 10, 141,  56,  16, 213],\n",
        "       [ 11,  79,  65,  20, 164],\n",
        "       [ 12,  37,  94,  46, 177]])\n",
        "</pre>\n",
        "\n",
        "</details>"
      ]
    },
    {
      "cell_type": "code",
      "metadata": {
        "id": "bqUp3K0X_z3H"
      },
      "source": [
        "#7. Cho biết những tháng có tổng số vụ cá mập tấn công >200\n",
        "shark[shark[:,-1]>200]"
      ],
      "execution_count": 717,
      "outputs": [
        {
          "output_type": "execute_result",
          "data": {
            "text/plain": "array([[  6, 173,  25,  22, 220],\n       [  7, 232,  25,  28, 285],\n       [  8, 208,  28,  15, 251],\n       [  9, 182,  35,  17, 234],\n       [ 10, 141,  56,  16, 213]])"
          },
          "metadata": {},
          "execution_count": 717
        }
      ]
    },
    {
      "cell_type": "markdown",
      "metadata": {
        "id": "vCFU4BfL_z3o"
      },
      "source": [
        "<details>\n",
        "  <summary>Nhấn vào đây để xem kết quả !</summary>\n",
        "  \n",
        "  <pre>array([[  6, 173,  25,  22, 220],\n",
        "       [  7, 232,  25,  28, 285],\n",
        "       [  8, 208,  28,  15, 251],\n",
        "       [  9, 182,  35,  17, 234],\n",
        "       [ 10, 141,  56,  16, 213]])\n",
        "</pre>\n",
        "\n",
        "</details>"
      ]
    },
    {
      "cell_type": "code",
      "metadata": {
        "id": "O9s2G0B3_z3v"
      },
      "source": [
        "#8. Cho biết tổng số vụ cá mập tấn công nhiều nhất trong tháng là bao nhiêu\n",
        "shark_max = max(shark[:,-1])\n",
        "shark_max"
      ],
      "execution_count": 718,
      "outputs": [
        {
          "output_type": "execute_result",
          "data": {
            "text/plain": "285"
          },
          "metadata": {},
          "execution_count": 718
        }
      ]
    },
    {
      "cell_type": "markdown",
      "metadata": {
        "id": "giEpDNsp_z4C"
      },
      "source": [
        "<details>\n",
        "  <summary>Nhấn vào đây để xem kết quả !</summary>\n",
        "  \n",
        "  <pre>285\n",
        "</pre>\n",
        "\n",
        "</details>"
      ]
    },
    {
      "cell_type": "code",
      "metadata": {
        "id": "PNUieu5a_z4E",
        "tags": []
      },
      "source": [
        "#9. Cho biết tháng nào có tổng số vụ cá mập tấn công nhiều nhất\n",
        "\n",
        "month_max = shark[shark[:,-1]==shark_max][:,0]\n",
        "\n",
        "print('Tháng có tổng số vụ cá mập tấn công nhiều nhất là tháng : {}'.format(month_max))"
      ],
      "execution_count": 719,
      "outputs": [
        {
          "output_type": "stream",
          "name": "stdout",
          "text": "Tháng có tổng số vụ cá mập tấn công nhiều nhất là tháng : [7]\n"
        }
      ]
    },
    {
      "cell_type": "markdown",
      "metadata": {
        "id": "GVtBUdND_z4g"
      },
      "source": [
        "<details>\n",
        "  <summary>Nhấn vào đây để xem kết quả !</summary>\n",
        "  \n",
        "  <pre>Tháng có tổng số vụ cá mập tấn công nhiều nhất là tháng : 7\n",
        "</pre>\n",
        "\n",
        "</details>"
      ]
    }
  ]
}